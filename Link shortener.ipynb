{
 "cells": [
  {
   "cell_type": "code",
   "execution_count": 1,
   "id": "c9fa7963",
   "metadata": {},
   "outputs": [],
   "source": [
    "import tkinter as tk\n",
    "import pyshorteners as ps\n",
    "import pyperclip"
   ]
  },
  {
   "cell_type": "code",
   "execution_count": 2,
   "id": "f76419e0",
   "metadata": {},
   "outputs": [],
   "source": [
    "def shorten():\n",
    "    url = link.get()\n",
    "    s = ps.Shortener()\n",
    "    shorten_url = s.tinyurl.short(url)\n",
    "    url_s.delete(0,tk.END)\n",
    "    url_s.insert(0,shorten_url)\n",
    "def copy_to_clipboard():\n",
    "    pyperclip.copy(link.get())"
   ]
  },
  {
   "cell_type": "code",
   "execution_count": 3,
   "id": "a609216a",
   "metadata": {},
   "outputs": [],
   "source": [
    "root = tk.Tk()\n",
    "root.title(\"URL Shortener [InternDev]\")\n",
    "root.geometry(\"400x500\")\n",
    "\n",
    "padx_value = 15\n",
    "pady_value = 5\n",
    "\n",
    "# Enter link:\n",
    "label1 = tk.Label(root, text=\"Enter link: \", font=(\"Arial\",17))\n",
    "label1.grid(row=0,column=0,sticky=\"w\",padx=padx_value,pady=(20,pady_value))\n",
    "link = tk.Entry(root, font=(\"Arial\",17))\n",
    "link.grid(row=1,column=0,padx=padx_value,pady=pady_value,columnspan=2,ipady=5,ipadx=20)\n",
    "\n",
    "#Generate\n",
    "gbutton = tk.Button(root,text=\"Generate\",command=shorten,font=(\"Arial\",18)).grid(row=2,column=0,padx=padx_value,pady=(25,pady_value))\n",
    "\n",
    "#ShortenedURL\n",
    "label2 = tk.Label(root,text=\"Shortened Link: \", font=(\"Arial\",17))\n",
    "label2.grid(row=3,column=0,sticky=\"w\",padx=padx_value,pady=(40,pady_value))\n",
    "url_s = tk.Entry(root,font=(\"Arial\",17))\n",
    "url_s.grid(row=4,column=0,columnspan=2, padx=padx_value,pady=pady_value,ipady=5,ipadx=20)\n",
    "\n",
    "#Copy\n",
    "cbutton = tk.Button(root,text=\"Copy\",command=lambda: copy_to_clipboard,font=(\"Arial\",18)).grid(row=5,column=0,padx=padx_value,pady=(25,pady_value))\n",
    "\n",
    "root.mainloop()"
   ]
  },
  {
   "cell_type": "code",
   "execution_count": null,
   "id": "77919dd2",
   "metadata": {},
   "outputs": [],
   "source": []
  }
 ],
 "metadata": {
  "kernelspec": {
   "display_name": "Python 3 (ipykernel)",
   "language": "python",
   "name": "python3"
  },
  "language_info": {
   "codemirror_mode": {
    "name": "ipython",
    "version": 3
   },
   "file_extension": ".py",
   "mimetype": "text/x-python",
   "name": "python",
   "nbconvert_exporter": "python",
   "pygments_lexer": "ipython3",
   "version": "3.9.17"
  }
 },
 "nbformat": 4,
 "nbformat_minor": 5
}
