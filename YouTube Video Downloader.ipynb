{
 "cells": [
  {
   "cell_type": "code",
   "execution_count": null,
   "id": "ab7ee60b",
   "metadata": {},
   "outputs": [],
   "source": [
    "# pip install pytube"
   ]
  },
  {
   "cell_type": "code",
   "execution_count": null,
   "id": "189fe145",
   "metadata": {},
   "outputs": [],
   "source": [
    "from tkinter import *\n",
    "from pytube import YouTube"
   ]
  },
  {
   "cell_type": "code",
   "execution_count": null,
   "id": "d42dacbd",
   "metadata": {},
   "outputs": [],
   "source": [
    "def download():\n",
    "    yt_link = link.get()\n",
    "    try:\n",
    "        yt = YouTube(yt_link)\n",
    "        video = yt.streams.get_by_resolution(clicked.get())\n",
    "        video.download()\n",
    "        notif.config(fg=\"green\", text=\"Download complete!\", font=(\"google-sans\", 15, 'bold'))\n",
    "    except Exception as e:\n",
    "        print(e)\n",
    "        notif.config(fg=\"red\", text=\"Downloaded Failed!\", font=(\"google-sans\", 15, 'bold'))"
   ]
  },
  {
   "cell_type": "code",
   "execution_count": null,
   "id": "087fa105",
   "metadata": {},
   "outputs": [],
   "source": [
    "root = Tk()\n",
    "root.geometry('550x275')\n",
    "root.title(\"Youtube Video Downloader\")\n",
    "\n",
    "# Link variable\n",
    "link = StringVar()\n",
    "\n",
    "# Screen Text\n",
    "Label(root, text=\"Youtube Video Downloader\", fg=\"firebrick\", font=(\"google-sans\", 20, 'bold')).grid(sticky=N, padx=100, row=0)\n",
    "Label(root, text=\"Drop Video Link\", font=(\"google-sans\", 15, 'bold')).grid(sticky=N, row=1, pady=15)\n",
    "notif = Label(root, font=(\"google-sans\", 12))\n",
    "notif.grid(sticky=N, pady=1, row=4)\n",
    "Entry(root, width=50, textvariable=link).grid(sticky=N, row=2)\n",
    "\n",
    "# Quality Selection Dropdown\n",
    "clicked = StringVar()\n",
    "clicked.set( \"720p\" )\n",
    "OptionMenu(root, clicked, \"144p\",\"360p\",\"480p\",\"720p\").grid(sticky=W, row=3, pady=15, padx=127)\n",
    "\n",
    "# Download Button\n",
    "Button(root, width=20, text=\"Download\", font=(\"google-sans\", 12), bg='greenyellow', command=download).grid(sticky=E, row=3, pady=15, padx=130)\n",
    "\n",
    "root.mainloop()"
   ]
  }
 ],
 "metadata": {
  "kernelspec": {
   "display_name": "Python 3 (ipykernel)",
   "language": "python",
   "name": "python3"
  },
  "language_info": {
   "codemirror_mode": {
    "name": "ipython",
    "version": 3
   },
   "file_extension": ".py",
   "mimetype": "text/x-python",
   "name": "python",
   "nbconvert_exporter": "python",
   "pygments_lexer": "ipython3",
   "version": "3.9.17"
  }
 },
 "nbformat": 4,
 "nbformat_minor": 5
}
